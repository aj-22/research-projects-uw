{
 "cells": [
  {
   "cell_type": "markdown",
   "metadata": {},
   "source": [
    "### 0 Research Notes\n",
    "- Seq 2 Seq model.\n",
    "    - https://blog.keras.io/a-ten-minute-introduction-to-sequence-to-sequence-learning-in-keras.html\n",
    "- Attention\n",
    "    - https://github.com/keras-team/keras/issues/4962\n",
    "- Seq 2 Seq model with Attn.\n",
    "    - https://towardsdatascience.com/sequence-2-sequence-model-with-attention-mechanism-9e9ca2a613a\n",
    "    - https://arxiv.org/pdf/1409.0473.pdf\n",
    "    - https://arxiv.org/pdf/1508.04025.pdf\n",
    "- Saving & Reloading Hidden States\n",
    "    - https://stackoverflow.com/questions/57611085/how-to-save-and-reload-hidden-states-of-keras-encoder-decoder-model-for-inferenc\n",
    "- Embedding Size Rule\n",
    "    -  https://forums.fast.ai/t/embedding-layer-size-rule/50691"
   ]
  },
  {
   "cell_type": "markdown",
   "metadata": {},
   "source": [
    "### 1 Library Import"
   ]
  },
  {
   "cell_type": "code",
   "execution_count": 1,
   "metadata": {},
   "outputs": [],
   "source": [
    "import pandas as pd\n",
    "import numpy as np\n",
    "import re\n",
    "import pickle\n",
    "\n",
    "from collections import defaultdict\n",
    "import ast\n",
    "\n",
    "from numpy import array\n",
    "from numpy import argmax\n",
    "from matplotlib import pyplot\n",
    "\n",
    "from sklearn.preprocessing import LabelEncoder\n",
    "from sklearn.preprocessing import OneHotEncoder\n",
    "from sklearn.model_selection import cross_val_score\n",
    "from sklearn.model_selection import train_test_split\n",
    "from sklearn.naive_bayes import MultinomialNB\n",
    "from sklearn.feature_extraction.text import CountVectorizer\n",
    "import statsmodels.formula.api as smf\n",
    "from sklearn.metrics import mean_squared_error,accuracy_score\n",
    "from sklearn.preprocessing import StandardScaler\n",
    "from sklearn.decomposition import PCA\n",
    "\n",
    "import tensorflow as tf\n",
    "from tensorflow.keras.preprocessing.text import Tokenizer\n",
    "from tensorflow.keras.preprocessing.sequence import pad_sequences\n",
    "\n",
    "from tensorflow.keras.models import Sequential, Model\n",
    "from tensorflow.keras.layers import Dense, LSTM, Conv1D, Embedding, Input, TimeDistributed, Activation\n",
    "from tensorflow.keras.layers import MaxPooling1D, SpatialDropout1D, Dropout, Concatenate, Flatten, RepeatVector, Permute\n",
    "from tensorflow.keras.callbacks import EarlyStopping\n",
    "from tensorflow.keras.layers import Multiply, Lambda\n",
    "from tensorflow.keras.backend import sum as Ksum\n",
    "\n",
    "from tensorflow.keras.models import load_model, model_from_json\n",
    "from tensorflow.keras.utils import plot_model"
   ]
  },
  {
   "cell_type": "markdown",
   "metadata": {},
   "source": [
    "### 2 Data"
   ]
  },
  {
   "cell_type": "markdown",
   "metadata": {},
   "source": [
    "#### 2.1 Data Load"
   ]
  },
  {
   "cell_type": "code",
   "execution_count": 2,
   "metadata": {},
   "outputs": [],
   "source": [
    "labeled_data_df=pd.read_csv('labeled_data.txt',sep='|')\n",
    "labeled_data_df[['Addresses']]=pd.DataFrame(labeled_data_df['Addresses'].apply(lambda t:ast.literal_eval(t)))\n",
    "labeled_data_df[['Notice']]=pd.DataFrame(labeled_data_df['Notice'].apply(lambda t:t.replace('\\n',' ')))\n",
    "labeled_data_df[['Notice']]=pd.DataFrame(labeled_data_df['Notice'].apply(lambda t:' '.join(t.split())))"
   ]
  },
  {
   "cell_type": "code",
   "execution_count": 3,
   "metadata": {},
   "outputs": [],
   "source": [
    "def unnest(df, tile, explode):\n",
    "    vals = df[explode].sum(1)\n",
    "    rs = [len(r) for r in vals]\n",
    "    a = np.repeat(df[tile].values, rs, axis=0)\n",
    "    b = np.concatenate(vals.values)\n",
    "    d = np.column_stack((a, b))\n",
    "    return pd.DataFrame(d, columns = tile +  ['_'.join(explode)])\n",
    "def join_textseq(seq_list, delim_char='|'):\n",
    "    return delim_char.join(seq_list)"
   ]
  },
  {
   "cell_type": "code",
   "execution_count": 4,
   "metadata": {},
   "outputs": [],
   "source": [
    "data_df=labeled_data_df.copy(deep=True)"
   ]
  },
  {
   "cell_type": "code",
   "execution_count": 5,
   "metadata": {},
   "outputs": [],
   "source": [
    "data_df['Addresses']=labeled_data_df['Addresses'].apply(lambda l:list(l)).apply(lambda l:join_textseq(l))"
   ]
  },
  {
   "cell_type": "markdown",
   "metadata": {},
   "source": [
    "#### 2.2 Feature Dictionary"
   ]
  },
  {
   "cell_type": "code",
   "execution_count": 6,
   "metadata": {},
   "outputs": [],
   "source": [
    "## Add hash and dash sign as well\n",
    "features='1234567890abcdefghijklmnopqrstuvwxyz <>|'\n",
    "feature_dict=defaultdict(int)\n",
    "count=0\n",
    "for f in features:\n",
    "    count+=1\n",
    "    feature_dict[f] += count # increment element's value by 1\n",
    "\n",
    "inv_feature_dict = {v: k for k, v in feature_dict.items()}\n",
    "\n",
    "num_tokens=len(features)+1"
   ]
  },
  {
   "cell_type": "code",
   "execution_count": 7,
   "metadata": {},
   "outputs": [],
   "source": [
    "feature_dict['_']=0"
   ]
  },
  {
   "cell_type": "code",
   "execution_count": 8,
   "metadata": {},
   "outputs": [],
   "source": [
    "inv_feature_dict[0]='_'"
   ]
  },
  {
   "cell_type": "markdown",
   "metadata": {},
   "source": [
    "#### 2.3 Utility Functions"
   ]
  },
  {
   "cell_type": "code",
   "execution_count": 9,
   "metadata": {},
   "outputs": [],
   "source": [
    "def encode_label_seq(text, feature_dict=feature_dict, start_char='<',end_char='>'):\n",
    "    code=[]\n",
    "    text=text.lower()\n",
    "    text=start_char+text+end_char\n",
    "    for charac in text:\n",
    "        code.append(feature_dict[charac])\n",
    "    return code\n",
    "\n",
    "def decode_label_seq(seq, mapping=inv_feature_dict):\n",
    "    seq_d=[]\n",
    "    for num in seq:\n",
    "        n=int(np.round(num))\n",
    "        if n!= 0:\n",
    "            seq_d.append(mapping[n])\n",
    "        else:\n",
    "            seq_d.append('_')\n",
    "    return ''.join(seq_d)\n",
    "\n",
    "def get_max_length(seq_array):\n",
    "    MAX_LABEL_SEQ_LEN=0\n",
    "    for seq in seq_array:\n",
    "        if len(seq) > MAX_LABEL_SEQ_LEN:\n",
    "            MAX_LABEL_SEQ_LEN=len(seq) \n",
    "    return MAX_LABEL_SEQ_LEN\n",
    "\n",
    "def onehot_encode_matrix(np_arr, num_tokens=num_tokens):\n",
    "    encoded_matrix=np.zeros((np_arr.shape[0],np_arr.shape[1],num_tokens))\n",
    "    for i in range(np_arr.shape[0]):\n",
    "        for j in range(np_arr.shape[1]):\n",
    "            encoded_matrix[i,j,np_arr[i,j]]=1\n",
    "    return encoded_matrix   "
   ]
  },
  {
   "cell_type": "code",
   "execution_count": null,
   "metadata": {},
   "outputs": [],
   "source": []
  },
  {
   "cell_type": "markdown",
   "metadata": {},
   "source": [
    "#### 2.4 Feature Prep"
   ]
  },
  {
   "cell_type": "code",
   "execution_count": 10,
   "metadata": {},
   "outputs": [
    {
     "name": "stdout",
     "output_type": "stream",
     "text": [
      "Max encoder sequence length: 8040\n"
     ]
    }
   ],
   "source": [
    "encoder_inp_integer=data_df['Notice'].apply(lambda l:encode_label_seq(l))\n",
    "print(\"Max encoder sequence length:\",get_max_length(encoder_inp_integer))"
   ]
  },
  {
   "cell_type": "code",
   "execution_count": 11,
   "metadata": {},
   "outputs": [],
   "source": [
    "E_in=onehot_encode_matrix(pad_sequences(encoder_inp_integer, 9000, padding='post'))"
   ]
  },
  {
   "cell_type": "code",
   "execution_count": 12,
   "metadata": {},
   "outputs": [
    {
     "name": "stdout",
     "output_type": "stream",
     "text": [
      "Max decoder sequence length: 171\n"
     ]
    }
   ],
   "source": [
    "decoder_feed=data_df['Addresses'].apply(lambda l:encode_label_seq(l))\n",
    "print(\"Max decoder sequence length:\",get_max_length(decoder_feed))"
   ]
  },
  {
   "cell_type": "code",
   "execution_count": 13,
   "metadata": {},
   "outputs": [],
   "source": [
    "D_in=onehot_encode_matrix(pad_sequences([s[:-1] for s in decoder_feed],200,padding='post'))\n",
    "D_ou=onehot_encode_matrix(pad_sequences([s[1:] for s in decoder_feed],200,padding='post'))"
   ]
  },
  {
   "cell_type": "markdown",
   "metadata": {},
   "source": [
    "### 3 Modelling"
   ]
  },
  {
   "cell_type": "markdown",
   "metadata": {},
   "source": [
    "#### 3.1 Save/Reload Functions"
   ]
  },
  {
   "cell_type": "code",
   "execution_count": 14,
   "metadata": {},
   "outputs": [],
   "source": [
    "def save_model(model,name_suffix=''):\n",
    "    model_json = model.to_json()\n",
    "    model_name='model'+name_suffix\n",
    "    json_filename=model_name+'.json'\n",
    "    hdf5_filename=model_name+'.h5'\n",
    "    with open(json_filename, \"w\") as json_file:\n",
    "        json_file.write(model_json)\n",
    "    # serialize weights to HDF5\n",
    "    model.save_weights(hdf5_filename)\n",
    "    print(\"Saved model to disk\")\n",
    "def reload_model(name_suffix):\n",
    "    model_name='model'+name_suffix\n",
    "    json_filename=model_name+'.json'\n",
    "    hdf5_filename=model_name+'.h5'\n",
    "    json_file = open(json_filename, 'r')\n",
    "    loaded_model_json = json_file.read()\n",
    "    json_file.close()\n",
    "    loaded_model = model_from_json(loaded_model_json)\n",
    "    # load weights into new model\n",
    "    loaded_model.load_weights(hdf5_filename)\n",
    "    print(\"Loaded model from disk\")\n",
    "    return loaded_model"
   ]
  },
  {
   "cell_type": "markdown",
   "metadata": {},
   "source": [
    "#### 3.2 Tensor Shapes & Embedding Dimensions"
   ]
  },
  {
   "cell_type": "code",
   "execution_count": 15,
   "metadata": {},
   "outputs": [
    {
     "name": "stdout",
     "output_type": "stream",
     "text": [
      "# Encoder Input (1443, 9000, 41)\n",
      "# Decoder Input (1443, 200, 41)\n",
      "# Decoder Output (1443, 200, 41)\n"
     ]
    }
   ],
   "source": [
    "print('# Encoder Input',E_in.shape)\n",
    "print('# Decoder Input',D_in.shape)\n",
    "print('# Decoder Output',D_ou.shape)"
   ]
  },
  {
   "cell_type": "markdown",
   "metadata": {},
   "source": [
    "Embedding size rule based on https://forums.fast.ai/t/embedding-layer-size-rule/50691"
   ]
  },
  {
   "cell_type": "code",
   "execution_count": 16,
   "metadata": {},
   "outputs": [
    {
     "data": {
      "text/plain": [
       "13"
      ]
     },
     "execution_count": 16,
     "metadata": {},
     "output_type": "execute_result"
    }
   ],
   "source": [
    "min(600, round(1.6 * num_tokens ** .56))"
   ]
  },
  {
   "cell_type": "code",
   "execution_count": 17,
   "metadata": {},
   "outputs": [],
   "source": [
    "latent_dim=13"
   ]
  },
  {
   "cell_type": "markdown",
   "metadata": {},
   "source": [
    "#### 3.3 Model Architecture"
   ]
  },
  {
   "cell_type": "code",
   "execution_count": null,
   "metadata": {},
   "outputs": [],
   "source": []
  },
  {
   "cell_type": "code",
   "execution_count": 90,
   "metadata": {},
   "outputs": [],
   "source": [
    "encoder_inputs = Input(shape=(None, num_tokens))\n",
    "\n",
    "encoder_conv = Conv1D(filters=32,\n",
    "               kernel_size=8,\n",
    "               strides=1,\n",
    "               activation='relu',\n",
    "               padding='same')(encoder_inputs)\n",
    "\n",
    "encoder = LSTM(latent_dim, return_state=True)\n",
    "encoder_outputs, state_h, state_c = encoder(encoder_conv)\n",
    "\n",
    "encoder_states = [state_h, state_c]\n",
    "\n",
    "decoder_inputs = Input(shape=(None, num_tokens))\n",
    "\n",
    "decoder_conv = Conv1D(filters=32,\n",
    "               kernel_size=8,\n",
    "               strides=1,\n",
    "               activation='relu',\n",
    "               padding='same')(decoder_inputs)\n",
    "\n",
    "decoder_lstm = LSTM(latent_dim, return_sequences=True, return_state=True)\n",
    "\n",
    "decoder_outputs, _, _ = decoder_lstm(decoder_conv,\n",
    "                                     initial_state=encoder_states)\n",
    "\n",
    "decoder_dense = Dense(num_tokens, activation='softmax')\n",
    "decoder_outputs = decoder_dense(decoder_outputs)\n",
    "\n",
    "model = Model([encoder_inputs, decoder_inputs], decoder_outputs)\n",
    "\n",
    "model.compile(loss='categorical_crossentropy', optimizer='adam', metrics=['accuracy'])"
   ]
  },
  {
   "cell_type": "code",
   "execution_count": 91,
   "metadata": {},
   "outputs": [],
   "source": [
    "epochs=200\n",
    "batch_size=96"
   ]
  },
  {
   "cell_type": "code",
   "execution_count": 92,
   "metadata": {},
   "outputs": [
    {
     "name": "stdout",
     "output_type": "stream",
     "text": [
      "Model: \"model_6\"\n",
      "__________________________________________________________________________________________________\n",
      "Layer (type)                    Output Shape         Param #     Connected to                     \n",
      "==================================================================================================\n",
      "input_9 (InputLayer)            [(None, None, 41)]   0                                            \n",
      "__________________________________________________________________________________________________\n",
      "input_10 (InputLayer)           [(None, None, 41)]   0                                            \n",
      "__________________________________________________________________________________________________\n",
      "conv1d_2 (Conv1D)               (None, None, 32)     10528       input_9[0][0]                    \n",
      "__________________________________________________________________________________________________\n",
      "conv1d_3 (Conv1D)               (None, None, 32)     10528       input_10[0][0]                   \n",
      "__________________________________________________________________________________________________\n",
      "lstm_4 (LSTM)                   [(None, 13), (None,  2392        conv1d_2[0][0]                   \n",
      "__________________________________________________________________________________________________\n",
      "lstm_5 (LSTM)                   [(None, None, 13), ( 2392        conv1d_3[0][0]                   \n",
      "                                                                 lstm_4[0][1]                     \n",
      "                                                                 lstm_4[0][2]                     \n",
      "__________________________________________________________________________________________________\n",
      "dense_2 (Dense)                 (None, None, 41)     574         lstm_5[0][0]                     \n",
      "==================================================================================================\n",
      "Total params: 26,414\n",
      "Trainable params: 26,414\n",
      "Non-trainable params: 0\n",
      "__________________________________________________________________________________________________\n"
     ]
    }
   ],
   "source": [
    "model.summary()"
   ]
  },
  {
   "cell_type": "markdown",
   "metadata": {},
   "source": [
    "#### 3.4 Fitting"
   ]
  },
  {
   "cell_type": "code",
   "execution_count": 93,
   "metadata": {},
   "outputs": [
    {
     "name": "stdout",
     "output_type": "stream",
     "text": [
      "Train on 1154 samples, validate on 289 samples\n",
      "Epoch 1/5\n",
      "1154/1154 [==============================] - 347s 300ms/sample - loss: 3.6582 - accuracy: 0.1803 - val_loss: 3.4984 - val_accuracy: 0.8278\n",
      "Epoch 2/5\n",
      "1154/1154 [==============================] - 525s 455ms/sample - loss: 3.4383 - accuracy: 0.6210 - val_loss: 3.0667 - val_accuracy: 0.8342\n",
      "Epoch 3/5\n",
      "1154/1154 [==============================] - 354s 307ms/sample - loss: 3.0229 - accuracy: 0.6218 - val_loss: 2.3228 - val_accuracy: 0.8299\n",
      "Epoch 4/5\n",
      "1154/1154 [==============================] - 336s 291ms/sample - loss: 2.5229 - accuracy: 0.6131 - val_loss: 1.7805 - val_accuracy: 0.8349\n",
      "Epoch 5/5\n",
      "1154/1154 [==============================] - 349s 303ms/sample - loss: 2.1823 - accuracy: 0.6223 - val_loss: 1.4024 - val_accuracy: 0.8371\n"
     ]
    }
   ],
   "source": [
    "history=model.fit([E_in, D_in], D_ou,\n",
    "          batch_size=batch_size,\n",
    "          epochs=epochs,\n",
    "          validation_split=0.2)"
   ]
  },
  {
   "cell_type": "markdown",
   "metadata": {},
   "source": [
    "#### 3.5 Model Retention"
   ]
  },
  {
   "cell_type": "code",
   "execution_count": null,
   "metadata": {},
   "outputs": [],
   "source": [
    "# save_model(model,'m_')\n",
    "# with open('m_history_dict', 'wb') as file_pi:\n",
    "#     pickle.dump(history.history, file_pi)"
   ]
  },
  {
   "cell_type": "markdown",
   "metadata": {},
   "source": [
    "#### 3.6 Visualization"
   ]
  },
  {
   "cell_type": "code",
   "execution_count": 16,
   "metadata": {},
   "outputs": [],
   "source": [
    "with open('m_history_dict', 'rb') as file_pi:\n",
    "    history=pickle.load(file_pi)"
   ]
  },
  {
   "cell_type": "code",
   "execution_count": 17,
   "metadata": {},
   "outputs": [
    {
     "data": {
      "image/png": "[encoded data removed]",
      "text/plain": [
       "<Figure size 432x288 with 1 Axes>"
      ]
     },
     "metadata": {
      "needs_background": "light"
     },
     "output_type": "display_data"
    }
   ],
   "source": [
    "pyplot.plot(history['accuracy'])\n",
    "pyplot.plot(history['val_accuracy'])\n",
    "pyplot.title('model train vs validation accuracy')\n",
    "pyplot.ylabel('accuracy')\n",
    "pyplot.xlabel('epoch')\n",
    "pyplot.legend(['train', 'validation'], loc='upper right')\n",
    "pyplot.show()"
   ]
  },
  {
   "cell_type": "code",
   "execution_count": 22,
   "metadata": {},
   "outputs": [
    {
     "data": {
      "image/png": "[encoded data removed]",
      "text/plain": [
       "<Figure size 432x288 with 1 Axes>"
      ]
     },
     "metadata": {
      "needs_background": "light"
     },
     "output_type": "display_data"
    }
   ],
   "source": [
    "pyplot.plot(history['loss'])\n",
    "pyplot.plot(history['val_loss'])\n",
    "pyplot.title('model train vs validation loss')\n",
    "pyplot.ylabel('loss')\n",
    "pyplot.xlabel('epoch')\n",
    "pyplot.legend(['train', 'validation'], loc='upper right')\n",
    "pyplot.show()"
   ]
  },
  {
   "cell_type": "markdown",
   "metadata": {},
   "source": [
    "#### 3.7 Model Reload"
   ]
  },
  {
   "cell_type": "code",
   "execution_count": 23,
   "metadata": {},
   "outputs": [
    {
     "name": "stdout",
     "output_type": "stream",
     "text": [
      "Loaded model from disk\n"
     ]
    }
   ],
   "source": [
    "model=reload_model('m_')"
   ]
  },
  {
   "cell_type": "markdown",
   "metadata": {},
   "source": [
    "### 4 Prediction"
   ]
  },
  {
   "cell_type": "markdown",
   "metadata": {},
   "source": [
    "#### 4.1 Set up inference"
   ]
  },
  {
   "cell_type": "code",
   "execution_count": 97,
   "metadata": {},
   "outputs": [
    {
     "data": {
      "text/plain": [
       "TensorShape([None, None, 41])"
      ]
     },
     "execution_count": 97,
     "metadata": {},
     "output_type": "execute_result"
    }
   ],
   "source": [
    "decoder_inputs.shape"
   ]
  },
  {
   "cell_type": "code",
   "execution_count": 100,
   "metadata": {},
   "outputs": [],
   "source": [
    "encoder_model = Model(encoder_inputs, encoder_states)\n",
    "\n",
    "decoder_state_input_h = Input(shape=(latent_dim,))\n",
    "decoder_state_input_c = Input(shape=(latent_dim,))\n",
    "decoder_states_inputs = [decoder_state_input_h, decoder_state_input_c]\n",
    "\n",
    "decoder_conv = Conv1D(filters=32,\n",
    "               kernel_size=8,\n",
    "               strides=1,\n",
    "               activation='relu',\n",
    "               padding='same')(decoder_inputs)\n",
    "\n",
    "decoder_outputs, state_h, state_c = decoder_lstm(\n",
    "    decoder_conv, initial_state=decoder_states_inputs)\n",
    "\n",
    "decoder_states = [state_h, state_c]\n",
    "\n",
    "decoder_outputs = decoder_dense(decoder_outputs)\n",
    "\n",
    "decoder_model = Model(\n",
    "    [decoder_inputs] + decoder_states_inputs,\n",
    "    [decoder_outputs] + decoder_states)"
   ]
  },
  {
   "cell_type": "markdown",
   "metadata": {},
   "source": [
    "#### 4.2 Save Models"
   ]
  },
  {
   "cell_type": "code",
   "execution_count": null,
   "metadata": {},
   "outputs": [],
   "source": [
    "save_model(encoder_model,'_encoder')\n",
    "save_model(decoder_model,'_decoder')"
   ]
  },
  {
   "cell_type": "markdown",
   "metadata": {},
   "source": [
    "#### 4.3 Reload Model"
   ]
  },
  {
   "cell_type": "code",
   "execution_count": 24,
   "metadata": {},
   "outputs": [
    {
     "name": "stdout",
     "output_type": "stream",
     "text": [
      "Loaded model from disk\n",
      "Loaded model from disk\n"
     ]
    }
   ],
   "source": [
    "encoder_model=reload_model('_encoder')\n",
    "decoder_model=reload_model('_decoder')"
   ]
  },
  {
   "cell_type": "code",
   "execution_count": 25,
   "metadata": {},
   "outputs": [],
   "source": [
    "def decode_sequence(input_seq, reverse_target_char_index=inv_feature_dict, max_decoder_seq_length=200,feature_dict=feature_dict):\n",
    "    # Encode the input as state vectors.\n",
    "    states_value = encoder_model.predict(input_seq)\n",
    "\n",
    "    # Generate empty target sequence of length 1.\n",
    "    target_seq = np.zeros((1, 1, num_tokens))\n",
    "    # Populate the first character of target sequence with the start character.\n",
    "    target_seq[0, 0, feature_dict['<']] = 1.\n",
    "\n",
    "    # Sampling loop for a batch of sequences\n",
    "    # (to simplify, here we assume a batch of size 1).\n",
    "    stop_condition = False\n",
    "    decoded_sentence = ''\n",
    "    while not stop_condition:\n",
    "        output_tokens, h, c = decoder_model.predict(\n",
    "            [target_seq] + states_value)\n",
    "\n",
    "        # Sample a token\n",
    "        sampled_token_index = np.argmax(output_tokens[0, -1, :])\n",
    "        sampled_char = reverse_target_char_index[sampled_token_index]\n",
    "        decoded_sentence += sampled_char\n",
    "\n",
    "        # Exit condition: either hit max length\n",
    "        # or find stop character.\n",
    "        if (sampled_char == '>' or len(decoded_sentence) > max_decoder_seq_length):\n",
    "            stop_condition = True\n",
    "\n",
    "        # Update the target sequence (of length 1).\n",
    "        target_seq = np.zeros((1, 1, num_tokens))\n",
    "        target_seq[0, 0, sampled_token_index] = 1.\n",
    "\n",
    "        # Update states\n",
    "        states_value = [h, c]\n",
    "\n",
    "    return decoded_sentence"
   ]
  },
  {
   "cell_type": "code",
   "execution_count": 28,
   "metadata": {},
   "outputs": [
    {
     "name": "stdout",
     "output_type": "stream",
     "text": [
      "Predicted Label\n",
      " 888887733333_____________________________________00000444044040440404404044040440404400440440044044004404400440440044044004404400440440044044004404400440440044044004404400440440044044004404400440440044\n",
      "Actual Label\n",
      " ('767 Dan Ways Bellborough, NV 90822', '95717 Andrea Extensions West Ashleyfurt, WY 13683')\n"
     ]
    }
   ],
   "source": [
    "tr=labeled_data_df.iloc[11]['Notice']\n",
    "tl=labeled_data_df.iloc[11]['Addresses']\n",
    "tr_in=E_in[11].reshape(1,9000,41)\n",
    "print('Predicted Label\\n',decode_sequence(tr_in))\n",
    "print('Actual Label\\n',tl)"
   ]
  },
  {
   "cell_type": "code",
   "execution_count": null,
   "metadata": {},
   "outputs": [],
   "source": [
    "41"
   ]
  }
 ],
 "metadata": {
  "kernelspec": {
   "display_name": "Python 3",
   "language": "python",
   "name": "python3"
  },
  "language_info": {
   "codemirror_mode": {
    "name": "ipython",
    "version": 3
   },
   "file_extension": ".py",
   "mimetype": "text/x-python",
   "name": "python",
   "nbconvert_exporter": "python",
   "pygments_lexer": "ipython3",
   "version": "3.7.3"
  }
 },
 "nbformat": 4,
 "nbformat_minor": 2
}
